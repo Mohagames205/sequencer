{
 "cells": [
  {
   "cell_type": "markdown",
   "metadata": {},
   "source": [
    "# Wiskunde rij van fibonacci\n",
    "Dit is een computer programma die de rij van Fibonacci berekent en ook het getal op een bepaalde locatie kan berekenen"
   ]
  },
  {
   "cell_type": "markdown",
   "metadata": {
    "pycharm": {
     "name": "#%% md\n"
    }
   },
   "source": [
    "Eerst maken we een \"generator\" die de rij van fibonacci zal aanmaken.\n",
    "Anders zal ons programma veel te traag zijn.\n",
    "Pointer gaat de huidige locatie van de generator bij"
   ]
  },
  {
   "cell_type": "code",
   "execution_count": null,
   "metadata": {
    "pycharm": {
     "name": "#%%\n"
    }
   },
   "outputs": [],
   "source": [
    "def generate_fibo(limit=100):\n",
    "    # bevat een tuple (lijst) van 2 getallen\n",
    "    pointer = (0,1)\n",
    "    for i in range(limit):\n",
    "        if i == 0:\n",
    "            yield 0\n",
    "        if i == 1:\n",
    "            yield 1\n",
    "\n",
    "        first, second = pointer\n",
    "        pointer = (pointer[1], first + second)\n",
    "        yield first + second"
   ]
  },
  {
   "cell_type": "markdown",
   "metadata": {
    "pycharm": {
     "name": "#%% md\n"
    }
   },
   "source": [
    "Nu kunnen we gebruik maken van deze functie om alle getallen tot een specifiek limiet te laten zien. Probeer maar eens!"
   ]
  },
  {
   "cell_type": "code",
   "execution_count": null,
   "metadata": {
    "pycharm": {
     "name": "#%%\n"
    }
   },
   "outputs": [],
   "source": [
    "lim = int(input(\"Tot waar moet ik de getallen berekenen?\\n\"))\n",
    "for x in generate_fibo(lim):\n",
    "    print(x)"
   ]
  },
  {
   "cell_type": "markdown",
   "metadata": {
    "pycharm": {
     "name": "#%% md\n"
    }
   },
   "source": [
    "We kunnen dit ook gebruiken om een nde getal te berekenen! We maken hier ook een speciale functie voor."
   ]
  },
  {
   "cell_type": "code",
   "execution_count": null,
   "metadata": {
    "pycharm": {
     "name": "#%%\n"
    }
   },
   "outputs": [],
   "source": [
    "def get_nth_fibo(n):\n",
    "    output = list(generate_fibo(n - 1))\n",
    "    return output[-1]"
   ]
  },
  {
   "cell_type": "markdown",
   "metadata": {
    "pycharm": {
     "name": "#%% md\n"
    }
   },
   "source": [
    "Nu kunnen we deze functie gebruiken om het nde getal te berekenen"
   ]
  },
  {
   "cell_type": "code",
   "execution_count": null,
   "metadata": {
    "pycharm": {
     "name": "#%%\n"
    }
   },
   "outputs": [],
   "source": [
    "n = int(input(\"Geef n \"))\n",
    "print(get_nth_fibo(n))"
   ]
  }
 ],
 "metadata": {
  "kernelspec": {
   "display_name": "Python 3",
   "language": "python",
   "name": "python3"
  },
  "language_info": {
   "codemirror_mode": {
    "name": "ipython",
    "version": 3
   },
   "file_extension": ".py",
   "mimetype": "text/x-python",
   "name": "python",
   "nbconvert_exporter": "python",
   "pygments_lexer": "ipython3",
   "version": "3.7.6"
  }
 },
 "nbformat": 4,
 "nbformat_minor": 1
}